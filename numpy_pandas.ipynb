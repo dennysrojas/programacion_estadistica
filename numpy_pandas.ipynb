{
 "cells": [
  {
   "cell_type": "markdown",
   "id": "47b3bb77",
   "metadata": {},
   "source": [
    "# Ejercicio con Numpy y Pandas"
   ]
  },
  {
   "cell_type": "code",
   "execution_count": 77,
   "id": "6a7d75c3",
   "metadata": {},
   "outputs": [],
   "source": [
    "#importo libreria random\n",
    "import random"
   ]
  },
  {
   "cell_type": "code",
   "execution_count": 78,
   "id": "bfdd531b",
   "metadata": {},
   "outputs": [],
   "source": [
    "#funcion que genera un vector de n elementos con valores aleatorios\n",
    "def generar_vector(n):\n",
    "    vector = []\n",
    "    for i in range(n):\n",
    "        elemento = round(random.uniform(-100, 100), 2)\n",
    "        vector.append(elemento)\n",
    "    return vector"
   ]
  },
  {
   "cell_type": "code",
   "execution_count": 79,
   "id": "40d10580",
   "metadata": {},
   "outputs": [
    {
     "name": "stdout",
     "output_type": "stream",
     "text": [
      "Vector generado: [82.52, 83.1, -29.97, -32.56, 88.37, 11.1, -10.53, 1.4, 40.62, -23.45]\n"
     ]
    },
    {
     "data": {
      "text/plain": [
       "list"
      ]
     },
     "execution_count": 79,
     "metadata": {},
     "output_type": "execute_result"
    }
   ],
   "source": [
    "n = 10  # Cambia este valor para generar un vector de diferente tamaño\n",
    "vector = generar_vector(n)\n",
    "print(\"Vector generado:\", vector)\n",
    "type(vector)"
   ]
  },
  {
   "cell_type": "code",
   "execution_count": 80,
   "id": "4ddac3c4",
   "metadata": {},
   "outputs": [],
   "source": [
    "#Instalo e importo numpy\n",
    "#%pip install numpy\n",
    "import numpy as np"
   ]
  },
  {
   "cell_type": "code",
   "execution_count": 81,
   "id": "6162e126",
   "metadata": {},
   "outputs": [
    {
     "name": "stdout",
     "output_type": "stream",
     "text": [
      "float64\n",
      "10\n",
      "Vector convertido a numpy array: [ 82.52  83.1  -29.97 -32.56  88.37  11.1  -10.53   1.4   40.62 -23.45]\n"
     ]
    }
   ],
   "source": [
    "#Convertir de una lista a un erreglo de tipo numpy\n",
    "arreglo_x = np.array(vector)\n",
    "type(arreglo_x)\n",
    "print(arreglo_x.dtype)  # Verificar el tipo de datos del arreglo\n",
    "print(arreglo_x.size) # Verificar el tamaño del arreglo\n",
    "print(\"Vector convertido a numpy array:\", arreglo_x)"
   ]
  },
  {
   "cell_type": "code",
   "execution_count": 82,
   "id": "185b7d72",
   "metadata": {},
   "outputs": [
    {
     "name": "stdout",
     "output_type": "stream",
     "text": [
      "[ 11.1  -10.53]\n",
      "Arreglo nuevo con índices específicos: [ 82.52  83.1    1.4  -23.45 -10.53]\n",
      "Arreglo nuevo con índices específicos (otra solución): [ 82.52  83.1    1.4  -23.45 -10.53]\n"
     ]
    }
   ],
   "source": [
    "#Indexación del arreglo\n",
    "print(arreglo_x[5:7])\n",
    "\n",
    "#Crear nuevo arreglo con índices específicos\n",
    "indices = [0, 1, 7, 9, 6]\n",
    "arreglo_nuevo = np.array(arreglo_x[indices])\n",
    "print(\"Arreglo nuevo con índices específicos:\", arreglo_nuevo)\n",
    "\n",
    "#Otra solucion para crear un nuevo arreglo\n",
    "arreglo_nuevo2 = arreglo_x[[0, 1, 7, 9, 6]]\n",
    "print(\"Arreglo nuevo con índices específicos (otra solución):\", arreglo_nuevo2)"
   ]
  },
  {
   "cell_type": "code",
   "execution_count": 83,
   "id": "f754854a",
   "metadata": {},
   "outputs": [
    {
     "name": "stdout",
     "output_type": "stream",
     "text": [
      "Arreglo nuevo: [ 82.52  83.1    1.4  -23.45 -10.53]\n",
      "Arreglo nuevo después de sumar 10: [ 92.52  93.1   11.4  -13.45  -0.53]\n"
     ]
    }
   ],
   "source": [
    "print(\"Arreglo nuevo:\", arreglo_nuevo)\n",
    "arreglo_nuevo = arreglo_nuevo + 10\n",
    "print(\"Arreglo nuevo después de sumar 10:\", arreglo_nuevo)"
   ]
  },
  {
   "cell_type": "code",
   "execution_count": 84,
   "id": "bf951091",
   "metadata": {},
   "outputs": [
    {
     "name": "stdout",
     "output_type": "stream",
     "text": [
      "Suma de dos arreglos: [ 7  9 11 13 15]\n",
      "Multiplicación de un arreglo por un escalar: [ 5 10 15 20 25]\n"
     ]
    }
   ],
   "source": [
    "arreglo1 = np.array([1, 2, 3, 4, 5])\n",
    "arreglo2 = np.array([6, 7, 8, 9, 10])\n",
    "arreglox = np.array([5])\n",
    "\n",
    "arreglo3 = arreglo1 + arreglo2\n",
    "print(\"Suma de dos arreglos:\", arreglo3)\n",
    "\n",
    "arreglo4 = arreglo1 * arreglox\n",
    "print(\"Multiplicación de un arreglo por un escalar:\", arreglo4)"
   ]
  },
  {
   "cell_type": "code",
   "execution_count": 85,
   "id": "5a975f39",
   "metadata": {},
   "outputs": [
    {
     "name": "stdout",
     "output_type": "stream",
     "text": [
      "Elementos positivos del arreglo: [82.52 83.1  88.37 11.1   1.4  40.62]\n"
     ]
    }
   ],
   "source": [
    "arreglo_positivos = arreglo_x[arreglo_x >= 0]\n",
    "print(\"Elementos positivos del arreglo:\", arreglo_positivos)"
   ]
  },
  {
   "cell_type": "code",
   "execution_count": 86,
   "id": "3f89eeca",
   "metadata": {},
   "outputs": [
    {
     "name": "stdout",
     "output_type": "stream",
     "text": [
      "Elementos negativos del arreglo: [-29.97 -32.56 -10.53 -23.45]\n"
     ]
    }
   ],
   "source": [
    "arreglo_negativos = arreglo_x[arreglo_x < 0]\n",
    "print(\"Elementos negativos del arreglo:\", arreglo_negativos)"
   ]
  },
  {
   "cell_type": "code",
   "execution_count": 87,
   "id": "c2a80f07",
   "metadata": {},
   "outputs": [
    {
     "name": "stdout",
     "output_type": "stream",
     "text": [
      "Media del arreglo: 21.060000000000002\n",
      "Mediana del arreglo: 6.25\n",
      "Desviación estándar del arreglo: 46.35026817613896\n",
      "Percentil 25 del arreglo: -20.22\n"
     ]
    }
   ],
   "source": [
    "# Funciones estadísticas\n",
    "# Calcular la media, mediana y desviación estándar del arreglo\n",
    "media = np.mean(arreglo_x)\n",
    "print(\"Media del arreglo:\", media)\n",
    "\n",
    "mediana = np.median(arreglo_x)\n",
    "print(\"Mediana del arreglo:\", mediana)\n",
    "\n",
    "desviacion_estandar = np.std(arreglo_x)\n",
    "print(\"Desviación estándar del arreglo:\", desviacion_estandar)\n",
    "\n",
    "percentil_25 = np.percentile(arreglo_x, 25)\n",
    "print(\"Percentil 25 del arreglo:\", percentil_25)"
   ]
  },
  {
   "cell_type": "markdown",
   "id": "9eed7cc8",
   "metadata": {},
   "source": [
    "# Pandas"
   ]
  },
  {
   "cell_type": "code",
   "execution_count": 88,
   "id": "d798721b",
   "metadata": {},
   "outputs": [
    {
     "data": {
      "text/plain": [
       "dict"
      ]
     },
     "execution_count": 88,
     "metadata": {},
     "output_type": "execute_result"
    }
   ],
   "source": [
    "#crear una serie a partir de un diccionario\n",
    "import pandas as pd\n",
    " \n",
    "data = {\n",
    "    'nombre': ['Juan', 'Ana', 'Pedro'],\n",
    "    'edad': [28, 24, 35],\n",
    "    'ciudad': ['Madrid', 'Barcelona', 'Valencia']\n",
    "}\n",
    "type(data)  # Verifica el tipo de dato del diccionario"
   ]
  },
  {
   "cell_type": "code",
   "execution_count": 89,
   "id": "219ea05a",
   "metadata": {},
   "outputs": [
    {
     "name": "stdout",
     "output_type": "stream",
     "text": [
      "Serie creada a partir de un diccionario:\n",
      "nombre               [Juan, Ana, Pedro]\n",
      "edad                       [28, 24, 35]\n",
      "ciudad    [Madrid, Barcelona, Valencia]\n",
      "dtype: object\n"
     ]
    },
    {
     "data": {
      "text/plain": [
       "pandas.core.series.Series"
      ]
     },
     "execution_count": 89,
     "metadata": {},
     "output_type": "execute_result"
    }
   ],
   "source": [
    "serie = pd.Series(data)\n",
    "print(\"Serie creada a partir de un diccionario:\")\n",
    "print(serie)\n",
    "type(serie)  # Verifica el tipo de dato de la serie"
   ]
  },
  {
   "cell_type": "code",
   "execution_count": 90,
   "id": "158a7784",
   "metadata": {},
   "outputs": [
    {
     "data": {
      "text/plain": [
       "89"
      ]
     },
     "execution_count": 90,
     "metadata": {},
     "output_type": "execute_result"
    }
   ],
   "source": [
    "serie['edad'][1] = 89\n",
    "serie['edad'][1]"
   ]
  },
  {
   "cell_type": "code",
   "execution_count": 91,
   "id": "73a69c22",
   "metadata": {},
   "outputs": [
    {
     "name": "stdout",
     "output_type": "stream",
     "text": [
      "Serie creada a partir de un arreglo numpy:\n",
      "0    82.52\n",
      "1    83.10\n",
      "2   -29.97\n",
      "3   -32.56\n",
      "4    88.37\n",
      "5    11.10\n",
      "6   -10.53\n",
      "7     1.40\n",
      "8    40.62\n",
      "9   -23.45\n",
      "dtype: float64\n"
     ]
    },
    {
     "data": {
      "text/plain": [
       "pandas.core.series.Series"
      ]
     },
     "execution_count": 91,
     "metadata": {},
     "output_type": "execute_result"
    }
   ],
   "source": [
    "#Generar una serie desde un array\n",
    "\n",
    "serie_ndarray = pd.Series(arreglo_x)\n",
    "print(\"Serie creada a partir de un arreglo numpy:\")\n",
    "print(serie_ndarray)    \n",
    "type(serie_ndarray)  # Verifica el tipo de dato de la serie"
   ]
  },
  {
   "cell_type": "code",
   "execution_count": 92,
   "id": "18c0a4ed",
   "metadata": {},
   "outputs": [
    {
     "name": "stdout",
     "output_type": "stream",
     "text": [
      "Serie creada a partir de un vector:\n",
      "0   -82.84\n",
      "1    36.37\n",
      "2     2.27\n",
      "3   -61.30\n",
      "4   -82.21\n",
      "5     2.55\n",
      "6   -85.76\n",
      "dtype: float64\n"
     ]
    },
    {
     "data": {
      "text/plain": [
       "pandas.core.series.Series"
      ]
     },
     "execution_count": 92,
     "metadata": {},
     "output_type": "execute_result"
    }
   ],
   "source": [
    "#Crear una serie a partir de un vector\n",
    "\n",
    "n = 7\n",
    "vector = generar_vector(n)\n",
    "serie_vector = pd.Series(vector)\n",
    "print(\"Serie creada a partir de un vector:\")\n",
    "print(serie_vector)\n",
    "# Verificar el tipo de dato de la serie\n",
    "type(serie_vector)  # Verifica el tipo de dato de la serie"
   ]
  },
  {
   "cell_type": "code",
   "execution_count": 93,
   "id": "adc3eb07",
   "metadata": {},
   "outputs": [
    {
     "name": "stdout",
     "output_type": "stream",
     "text": [
      "c    1\n",
      "d    4\n",
      "e    5\n",
      "f    6\n",
      "dtype: int64\n"
     ]
    }
   ],
   "source": [
    "#crear 2 series y unirlas\n",
    "serie1 = pd.Series([1], index=['c'])    \n",
    "serie2 = pd.Series([4, 5, 6], index=['d', 'e', 'f'])\n",
    "serie_unida = pd.concat([serie1, serie2])  # Une las dos series\n",
    "print(serie_unida)  # Imprime la serie unida"
   ]
  },
  {
   "cell_type": "code",
   "execution_count": 95,
   "id": "a81864e0",
   "metadata": {},
   "outputs": [
    {
     "data": {
      "text/plain": [
       "0   -745.56\n",
       "1    327.33\n",
       "2     20.43\n",
       "3   -551.70\n",
       "4   -739.89\n",
       "5     22.95\n",
       "6   -771.84\n",
       "dtype: float64"
      ]
     },
     "execution_count": 95,
     "metadata": {},
     "output_type": "execute_result"
    }
   ],
   "source": [
    "nserie = serie_vector * 9\n",
    "nserie"
   ]
  },
  {
   "cell_type": "code",
   "execution_count": 96,
   "id": "625db604",
   "metadata": {},
   "outputs": [
    {
     "data": {
      "text/plain": [
       "-745.56    1\n",
       " 327.33    1\n",
       " 20.43     1\n",
       "-551.70    1\n",
       "-739.89    1\n",
       " 22.95     1\n",
       "-771.84    1\n",
       "Name: count, dtype: int64"
      ]
     },
     "execution_count": 96,
     "metadata": {},
     "output_type": "execute_result"
    }
   ],
   "source": [
    "cont = nserie.value_counts()\n",
    "cont"
   ]
  }
 ],
 "metadata": {
  "kernelspec": {
   "display_name": "Python 3",
   "language": "python",
   "name": "python3"
  },
  "language_info": {
   "codemirror_mode": {
    "name": "ipython",
    "version": 3
   },
   "file_extension": ".py",
   "mimetype": "text/x-python",
   "name": "python",
   "nbconvert_exporter": "python",
   "pygments_lexer": "ipython3",
   "version": "3.13.3"
  }
 },
 "nbformat": 4,
 "nbformat_minor": 5
}
