{
 "cells": [
  {
   "cell_type": "markdown",
   "id": "c9f19fcc",
   "metadata": {},
   "source": [
    "# Taller Práctico: Manipulación de Datos con NumPy y Pandas\n",
    "## Actividad 1: Explorando el Poder de NumPy (Arrays)\n",
    "### **Objetivo Específico**: Familiarizarse con la creación, atributos, indexación, slicing y operaciones fundamentales de los arrays de NumPy"
   ]
  },
  {
   "cell_type": "markdown",
   "id": "f2eef2bd",
   "metadata": {},
   "source": [
    "**1. Creación y Atributos de Arrays**\n",
    "- Crea un array 1D llamado mediciones_flujo a partir de la siguiente lista de Python, que simula mediciones de flujo sanguíneo (en ml/s): [12.5, 13.2, 11.9, 14.0, 13.5, 12.8, 15.1, 13.0].\n"
   ]
  },
  {
   "cell_type": "code",
   "execution_count": 20,
   "id": "04f3276b",
   "metadata": {},
   "outputs": [],
   "source": [
    "#instalo e importo librerias\n",
    "#%pip install numpy\n",
    "#%pip install pandas\n",
    "import numpy as np\n",
    "import pandas as pd"
   ]
  },
  {
   "cell_type": "code",
   "execution_count": 21,
   "id": "7c02f84b",
   "metadata": {},
   "outputs": [
    {
     "name": "stdout",
     "output_type": "stream",
     "text": [
      "mediciones_flujo: [12.5 13.2 11.9 14.  13.5 12.8 15.1 13. ]\n"
     ]
    }
   ],
   "source": [
    "#creo un array de numpy con los datos de flujo sanguíneo\n",
    "mediciones_flujo_list = [12.5, 13.2, 11.9, 14.0, 13.5, 12.8, 15.1, 13.0]\n",
    "mediciones_flujo = np.array(mediciones_flujo_list)\n",
    "print(\"mediciones_flujo:\", mediciones_flujo)"
   ]
  },
  {
   "cell_type": "markdown",
   "id": "fa5e5064",
   "metadata": {},
   "source": [
    "- Crea un array 2D (matriz) llamado datos_pacientes_basicos a partir de la\n",
    "siguiente lista de listas, donde cada fila representa [Edad, NivelColesterol,\n",
    "PresionSistolica]: [[55, 220, 140], [62, 250, 155], [48, 190, 130], [59, 235,\n",
    "148]]."
   ]
  },
  {
   "cell_type": "code",
   "execution_count": 22,
   "id": "212e445f",
   "metadata": {},
   "outputs": [
    {
     "name": "stdout",
     "output_type": "stream",
     "text": [
      "datos_pacientes_basicos:\n",
      " [[ 55 220 140]\n",
      " [ 62 250 155]\n",
      " [ 48 190 130]\n",
      " [ 59 235 148]]\n"
     ]
    }
   ],
   "source": [
    "#creo una matriz con datos de pacientes a partir de listas\n",
    "datos_pacientes_basicos_list = [[55, 220, 140], [62, 250, 155], [48, 190, 130], [59, 235, 148]]\n",
    "datos_pacientes_basicos = np.array(datos_pacientes_basicos_list)\n",
    "print(\"datos_pacientes_basicos:\\n\", datos_pacientes_basicos)"
   ]
  },
  {
   "cell_type": "markdown",
   "id": "3c6f75dc",
   "metadata": {},
   "source": [
    "- Utiliza np.arange() para crear un array llamado secuencia_tiempo que represente puntos de tiempo desde 0 hasta 10 segundos, con incrementos de 0.5 segundos."
   ]
  },
  {
   "cell_type": "code",
   "execution_count": 23,
   "id": "ce60f8f3",
   "metadata": {},
   "outputs": [
    {
     "name": "stdout",
     "output_type": "stream",
     "text": [
      "secuencia_tiempo: [ 0.   0.5  1.   1.5  2.   2.5  3.   3.5  4.   4.5  5.   5.5  6.   6.5\n",
      "  7.   7.5  8.   8.5  9.   9.5 10. ]\n"
     ]
    }
   ],
   "source": [
    "#Crea un array con puntos de tiempo de 0 a 10 segundos\n",
    "secuencia_tiempo = np.arange(0, 10.5, 0.5)\n",
    "print(\"secuencia_tiempo:\", secuencia_tiempo)"
   ]
  },
  {
   "cell_type": "markdown",
   "id": "880f1c1d",
   "metadata": {},
   "source": [
    "- Crea un array 1D llamado errores_simulados de 1000 elementos con valores aleatorios muestreados de una distribucion normal estandar (media 0, desviacion estandar 1) usando np.random.randn()."
   ]
  },
  {
   "cell_type": "code",
   "execution_count": 24,
   "id": "65142c63",
   "metadata": {},
   "outputs": [
    {
     "name": "stdout",
     "output_type": "stream",
     "text": [
      "errores_simulados: [-1.51229541 -0.94604291  0.23574991  1.12329207  0.79223151 -0.12762824\n",
      "  0.45210156  0.24570514  0.42147851  1.29189281]\n"
     ]
    }
   ],
   "source": [
    "#Crea un array de 1000 elementos con valores aleatorios de una distribución normal con media 0 y desviación estándar 1\n",
    "errores_simulados = np.random.randn(1000)\n",
    "print(\"errores_simulados:\", errores_simulados[:10])"
   ]
  },
  {
   "cell_type": "markdown",
   "id": "18153952",
   "metadata": {},
   "source": [
    "- Para cada uno de los arrays creados (mediciones_flujo, datos_pacientes_basicos, secuencia_tiempo,errores_simulados), imprime su forma (.shape), numero de dimensiones (.ndim), tamaño total (.size) y tipo de dato (.dtype).\n"
   ]
  },
  {
   "cell_type": "code",
   "execution_count": 25,
   "id": "ce0a582d",
   "metadata": {},
   "outputs": [
    {
     "name": "stdout",
     "output_type": "stream",
     "text": [
      "Atributos de los arrays:\n",
      "\n",
      "Array: mediciones_flujo\n",
      "Forma (.shape): (8,)\n",
      "Número de dimensiones (.ndim): 1\n",
      "Tamaño total (.size): 8\n",
      "Tipo de dato (.dtype): float64\n",
      "\n",
      "Array: datos_pacientes_basicos\n",
      "Forma (.shape): (4, 3)\n",
      "Número de dimensiones (.ndim): 2\n",
      "Tamaño total (.size): 12\n",
      "Tipo de dato (.dtype): int64\n",
      "\n",
      "Array: secuencia_tiempo\n",
      "Forma (.shape): (21,)\n",
      "Número de dimensiones (.ndim): 1\n",
      "Tamaño total (.size): 21\n",
      "Tipo de dato (.dtype): float64\n",
      "\n",
      "Array: errores_simulados\n",
      "Forma (.shape): (1000,)\n",
      "Número de dimensiones (.ndim): 1\n",
      "Tamaño total (.size): 1000\n",
      "Tipo de dato (.dtype): float64\n"
     ]
    }
   ],
   "source": [
    "arrays_creados = {\n",
    "    \"mediciones_flujo\": mediciones_flujo,\n",
    "    \"datos_pacientes_basicos\": datos_pacientes_basicos,\n",
    "    \"secuencia_tiempo\": secuencia_tiempo,\n",
    "    \"errores_simulados\": errores_simulados\n",
    "}\n",
    "\n",
    "print(\"Atributos de los arrays:\")\n",
    "for name, arr in arrays_creados.items():\n",
    "    print(f\"\\nArray: {name}\")\n",
    "    print(f\"Forma (.shape): {arr.shape}\")\n",
    "    print(f\"Número de dimensiones (.ndim): {arr.ndim}\")\n",
    "    print(f\"Tamaño total (.size): {arr.size}\")\n",
    "    print(f\"Tipo de dato (.dtype): {arr.dtype}\")"
   ]
  },
  {
   "cell_type": "markdown",
   "id": "41a04bdd",
   "metadata": {},
   "source": [
    "**2. Indexación y Slicing**"
   ]
  },
  {
   "cell_type": "markdown",
   "id": "a360061e",
   "metadata": {},
   "source": [
    "- Usando datos_pacientes_basicos:\n",
    "    - Selecciona e imprime la edad del segundo paciente.\n",
    "    - Selecciona e imprime todos los datos del tercer paciente (la fila completa).\n",
    "    - Selecciona e imprime solo la columna de NivelColesterol para todos los pacientes.\n",
    "    - Selecciona e imprime un subconjunto que contenga la Edad y NivelColesterol de los primeros dos pacientes."
   ]
  },
  {
   "cell_type": "code",
   "execution_count": 26,
   "id": "fbbb45df",
   "metadata": {},
   "outputs": [
    {
     "name": "stdout",
     "output_type": "stream",
     "text": [
      "Edad del segundo paciente: 62\n"
     ]
    }
   ],
   "source": [
    "#Selecciona e imprime la edad del segundo paciente\n",
    "edad_segundo_paciente = datos_pacientes_basicos[1, 0]\n",
    "print(f\"Edad del segundo paciente: {edad_segundo_paciente}\")"
   ]
  },
  {
   "cell_type": "code",
   "execution_count": 27,
   "id": "d2438486",
   "metadata": {},
   "outputs": [
    {
     "name": "stdout",
     "output_type": "stream",
     "text": [
      "Datos del tercer paciente: [ 48 190 130]\n"
     ]
    }
   ],
   "source": [
    "#Selecciona e imprime todos los datos del tercer paciente\n",
    "datos_tercer_paciente = datos_pacientes_basicos[2, :]\n",
    "print(f\"Datos del tercer paciente: {datos_tercer_paciente}\")"
   ]
  },
  {
   "cell_type": "code",
   "execution_count": 28,
   "id": "309c4db3",
   "metadata": {},
   "outputs": [
    {
     "name": "stdout",
     "output_type": "stream",
     "text": [
      "Nivel de colesterol de todos los pacientes: [220 250 190 235]\n"
     ]
    }
   ],
   "source": [
    "#Selecciona e imprime solo la columna de NivelColesterol para todos los pacientes   \n",
    "nivel_colesterol = datos_pacientes_basicos[:, 1]\n",
    "print(f\"Nivel de colesterol de todos los pacientes: {nivel_colesterol}\")"
   ]
  },
  {
   "cell_type": "code",
   "execution_count": 29,
   "id": "bd39d142",
   "metadata": {},
   "outputs": [
    {
     "name": "stdout",
     "output_type": "stream",
     "text": [
      "Subconjunto de edad y colesterol de los primeros dos pacientes:\n",
      "[[ 55 220]\n",
      " [ 62 250]]\n"
     ]
    }
   ],
   "source": [
    "#Selecciona  e imprime un subconjunto que contenga la edad y NivelColesterol de los primeros dos pacientes\n",
    "subconjunto_pacientes = datos_pacientes_basicos[:2, [0, 1]]\n",
    "print(f\"Subconjunto de edad y colesterol de los primeros dos pacientes:\\n{subconjunto_pacientes}\")"
   ]
  },
  {
   "cell_type": "markdown",
   "id": "2963c258",
   "metadata": {},
   "source": [
    "- Usando errores_simulados\n",
    "    - Selecciona e imprimer los primeros 10 valores\n",
    "    - Crea un nuevo array llamado errores_positivos que contenga solo los valores de errore_simulados que son mayores que 0. Imprime la cantidad de errores positivos encontrados"
   ]
  },
  {
   "cell_type": "code",
   "execution_count": 30,
   "id": "ce87c0db",
   "metadata": {},
   "outputs": [
    {
     "name": "stdout",
     "output_type": "stream",
     "text": [
      "Primeros 10 valores de errores_simulados:\n",
      "[-1.51229541 -0.94604291  0.23574991  1.12329207  0.79223151 -0.12762824\n",
      "  0.45210156  0.24570514  0.42147851  1.29189281]\n"
     ]
    }
   ],
   "source": [
    "#10 primeros valores de errores_simulados\n",
    "print(f\"Primeros 10 valores de errores_simulados:\\n{errores_simulados[:10]}\")"
   ]
  },
  {
   "cell_type": "code",
   "execution_count": 31,
   "id": "69fda2e4",
   "metadata": {},
   "outputs": [
    {
     "name": "stdout",
     "output_type": "stream",
     "text": [
      "Errores positivos:\n",
      "[0.23574991 1.12329207 0.79223151 0.45210156 0.24570514 0.42147851\n",
      " 1.29189281 0.09573727 0.48184679 1.59516563]\n",
      "Cantidad de errores positivos encontrados: 485\n"
     ]
    }
   ],
   "source": [
    "#nuevo array con errores positivos y cantidad de errores positivos encontrados\n",
    "errores_positivos = errores_simulados[errores_simulados > 0]\n",
    "cantidad_errores_positivos = errores_positivos.size\n",
    "print(f\"Errores positivos:\\n{errores_positivos[:10]}\")\n",
    "print(f\"Cantidad de errores positivos encontrados: {cantidad_errores_positivos}\")"
   ]
  },
  {
   "cell_type": "markdown",
   "id": "6e8d343d",
   "metadata": {},
   "source": [
    "**3. Operaciones y Estadísticas**\n",
    "- Crea dos arrays 1D, vector_a = np.array([1, 5, 10, 15]) y vector_b = np.array([2, 4, 6, 8]). Realiza y muestra los resultados de:\n",
    "    - Suma (vector_a + vector_b)\n",
    "    - Multiplicacion elemento a elemento (vector_a * vector_b)\n",
    "    - vector_a elevado al cuadrado."
   ]
  },
  {
   "cell_type": "code",
   "execution_count": 32,
   "id": "88ee6fc0",
   "metadata": {},
   "outputs": [],
   "source": [
    "#Creo los arrays de 1 dimension\n",
    "vector_a = np.array([1, 5, 10, 15])\n",
    "vector_b = np.array([2, 4, 6, 8])"
   ]
  },
  {
   "cell_type": "code",
   "execution_count": 33,
   "id": "99f86c31",
   "metadata": {},
   "outputs": [
    {
     "name": "stdout",
     "output_type": "stream",
     "text": [
      "Suma de los vectores:\n",
      "[ 1  5 10 15] + [2 4 6 8] = [ 3  9 16 23]\n"
     ]
    }
   ],
   "source": [
    "#Suma de los vectores\n",
    "suma_vectores = vector_a + vector_b\n",
    "print(f\"Suma de los vectores:\\n{vector_a} + {vector_b} = {suma_vectores}\")"
   ]
  },
  {
   "cell_type": "code",
   "execution_count": 34,
   "id": "ea5bcc34",
   "metadata": {},
   "outputs": [
    {
     "name": "stdout",
     "output_type": "stream",
     "text": [
      "Multiplicación elemento a elemento:\n",
      "[ 1  5 10 15] * [2 4 6 8] = [  2  20  60 120]\n"
     ]
    }
   ],
   "source": [
    "#Multiplicación elemento a elemento\n",
    "multiplicacion_vectores = vector_a * vector_b\n",
    "print(f\"Multiplicación elemento a elemento:\\n{vector_a} * {vector_b} = {multiplicacion_vectores}\")"
   ]
  },
  {
   "cell_type": "code",
   "execution_count": 35,
   "id": "e242186c",
   "metadata": {},
   "outputs": [
    {
     "name": "stdout",
     "output_type": "stream",
     "text": [
      "Vector_a elevado al cuadrado:\n",
      "[ 1  5 10 15] ** 2 = [  1  25 100 225]\n"
     ]
    }
   ],
   "source": [
    "#vector_a elevado al cuadrado\n",
    "vector_a_cuadrado = vector_a ** 2\n",
    "print(f\"Vector_a elevado al cuadrado:\\n{vector_a} ** 2 = {vector_a_cuadrado}\")"
   ]
  },
  {
   "cell_type": "markdown",
   "id": "60d314bf",
   "metadata": {},
   "source": [
    "- Toma la matriz datos_pacientes_basicos y suma un valor constante de 5 a la columna de PresionSistolica utilizando broadcasting (primero selecciona la columna, suma 5, y luego considera como reasignarla o crear una nueva matriz).\n"
   ]
  },
  {
   "cell_type": "code",
   "execution_count": 36,
   "id": "d3480ddb",
   "metadata": {},
   "outputs": [
    {
     "name": "stdout",
     "output_type": "stream",
     "text": [
      "Matriz original datos_pacientes_basicos:\n",
      "[[ 55 220 140]\n",
      " [ 62 250 155]\n",
      " [ 48 190 130]\n",
      " [ 59 235 148]]\n",
      "datos_pacientes_basicos con 5 sumado a PresionSistolica:\n",
      " [[ 55 220 140]\n",
      " [ 62 250 160]\n",
      " [ 48 190 135]\n",
      " [ 59 235 153]]\n"
     ]
    }
   ],
   "source": [
    "#Sumar un valor constante a la columna de PresionSistolica utilizando broadcasting\n",
    "print(\"Matriz original datos_pacientes_basicos:\")\n",
    "print(datos_pacientes_basicos)\n",
    "\n",
    "# Seleccionamos la columna y sumamos 5. NumPy maneja el broadcasting automáticamente.\n",
    "datos_pacientes_basicos_modificado = datos_pacientes_basicos.copy()\n",
    "datos_pacientes_basicos_modificado[1:, 2] += 5\n",
    "print(\"datos_pacientes_basicos con 5 sumado a PresionSistolica:\\n\", datos_pacientes_basicos_modificado)"
   ]
  },
  {
   "cell_type": "markdown",
   "id": "3aa76d23",
   "metadata": {},
   "source": [
    "- Para el array mediciones_flujo, calcula e imprime: la media, la mediana, la desviacion estandar, el valor mínimo y el máximo.\n"
   ]
  },
  {
   "cell_type": "code",
   "execution_count": 37,
   "id": "7917a2c0",
   "metadata": {},
   "outputs": [
    {
     "name": "stdout",
     "output_type": "stream",
     "text": [
      "Estadísticos de mediciones_flujo:\n",
      "Media: 13.25\n",
      "Mediana: 13.1\n",
      "Desviación estándar: 0.9151502608861561\n",
      "Valor mínimo: 11.9\n",
      "Valor máximo: 15.1\n"
     ]
    }
   ],
   "source": [
    "#estadísticos de mediciones_flujo\n",
    "print(\"Estadísticos de mediciones_flujo:\")\n",
    "print(f\"Media: {np.mean(mediciones_flujo)}\")\n",
    "print(f\"Mediana: {np.median(mediciones_flujo)}\")\n",
    "print(f\"Desviación estándar: {np.std(mediciones_flujo)}\")\n",
    "print(f\"Valor mínimo: {np.min(mediciones_flujo)}\")\n",
    "print(f\"Valor máximo: {np.max(mediciones_flujo)}\")"
   ]
  },
  {
   "cell_type": "markdown",
   "id": "dd7d4ea5",
   "metadata": {},
   "source": [
    "- Para la matriz datos_pacientes_basicos, calcula e imprime la media de cada variable (cada columna) utilizando el parámetro axis."
   ]
  },
  {
   "cell_type": "code",
   "execution_count": 38,
   "id": "34b4b64b",
   "metadata": {},
   "outputs": [
    {
     "name": "stdout",
     "output_type": "stream",
     "text": [
      "Media de cada variable en datos_pacientes_basicos:\n",
      "(Orden: Edad, NivelColesterol, PresionSistolica)\n",
      "[ 56.   223.75 143.25]\n"
     ]
    }
   ],
   "source": [
    "#media de cada variable en datos_pacientes_basicos utilizando axis\n",
    "print(\"Media de cada variable en datos_pacientes_basicos:\")\n",
    "media_por_columna = np.mean(datos_pacientes_basicos, axis=0)\n",
    "print(\"(Orden: Edad, NivelColesterol, PresionSistolica)\")\n",
    "print(media_por_columna)\n"
   ]
  },
  {
   "cell_type": "markdown",
   "id": "ac8cba56",
   "metadata": {},
   "source": [
    "### **Comentario Actividad 1**\n",
    "La actividad 1 ha permitido revisar conceptos estudiados en clase, con los que se pudo cubrir aspectos esenciales como: \n",
    "- Creación y manipulación de arrays: siendo unidimensionales y bidimensionales, así como el uso de funciones de numpy como arange, random, shape, ndim, size, dtype.\n",
    "- Indexación y slicing: nos ha permitido familiarizarnos con la sintaxis de numpy para acceso y extracción de subconjuntos de datos.\n",
    "- Operaciones y estadísticas: se ha podido revisar operaciones con vectores como: sumas, multiplicaciones y potencias. También la utilización del broadcasting para operaciones sobre subconjuntos de arrays y finalmente, el cálculo de estadísticos descriptivos básicos para obtener un resumen rápido de los datos."
   ]
  },
  {
   "cell_type": "markdown",
   "id": "22dd326c",
   "metadata": {},
   "source": [
    "## Actividad 2: Fundamentos de Pandas: Series y DataFrames\n",
    "### Objetivo Específico: Practicar la creacion, inspeccion, seleccion, filtrado y operaciones básicas con Series y DataFrames de Pandas.\n",
    "\n",
    "**1. Trabajando con Series:**"
   ]
  },
  {
   "cell_type": "code",
   "execution_count": 39,
   "id": "2e146746",
   "metadata": {},
   "outputs": [],
   "source": [
    "#a. Crea una Serie de Pandas llamada puntuaciones_asignatura con las siguientes puntuaciones\n",
    "puntuaciones_asignatura=pd.Series([7.5, 8.0, 9.5, 6.0, 7.0, 8.8],\n",
    "    index=['Ana', 'Luis', 'Eva', 'Juan', 'Sara', 'Pedro'])"
   ]
  },
  {
   "cell_type": "code",
   "execution_count": 40,
   "id": "31524927",
   "metadata": {},
   "outputs": [
    {
     "name": "stdout",
     "output_type": "stream",
     "text": [
      "Puntuación de Eva: 9.5\n"
     ]
    }
   ],
   "source": [
    "#b. Imprime la puntuacion de 'Eva'.\n",
    "print(\"Puntuación de Eva:\", puntuaciones_asignatura['Eva'])"
   ]
  },
  {
   "cell_type": "code",
   "execution_count": 41,
   "id": "4ed18ded",
   "metadata": {},
   "outputs": [
    {
     "name": "stdout",
     "output_type": "stream",
     "text": [
      "Puntuaciones de Luis, Juan y Pedro:\n"
     ]
    },
    {
     "data": {
      "text/plain": [
       "Luis     8.0\n",
       "Juan     6.0\n",
       "Pedro    8.8\n",
       "dtype: float64"
      ]
     },
     "execution_count": 41,
     "metadata": {},
     "output_type": "execute_result"
    }
   ],
   "source": [
    "# c. Imprimir puntuaciones de 'Luis', 'Juan' y 'Pedro'\n",
    "print(\"Puntuaciones de Luis, Juan y Pedro:\")\n",
    "puntuaciones_asignatura[['Luis', 'Juan', 'Pedro']]"
   ]
  },
  {
   "cell_type": "code",
   "execution_count": 42,
   "id": "fa420d11",
   "metadata": {},
   "outputs": [
    {
     "name": "stdout",
     "output_type": "stream",
     "text": [
      "Puntuaciones >= 8.0:\n",
      "Luis     8.0\n",
      "Eva      9.5\n",
      "Pedro    8.8\n",
      "dtype: float64\n"
     ]
    }
   ],
   "source": [
    "# d. Puntuaciones mayores o iguales a 8.0\n",
    "print(\"Puntuaciones >= 8.0:\")\n",
    "print(puntuaciones_asignatura[puntuaciones_asignatura >= 8.0])"
   ]
  },
  {
   "cell_type": "code",
   "execution_count": 43,
   "id": "de665a5e",
   "metadata": {},
   "outputs": [
    {
     "name": "stdout",
     "output_type": "stream",
     "text": [
      "Puntuaciones con +0.5:\n",
      "Ana       8.0\n",
      "Luis      8.5\n",
      "Eva      10.0\n",
      "Juan      6.5\n",
      "Sara      7.5\n",
      "Pedro     9.3\n",
      "dtype: float64\n"
     ]
    }
   ],
   "source": [
    "# e. Aumentar en 0.5 puntos todas las puntuaciones\n",
    "puntuaciones_aumentadas = puntuaciones_asignatura + 0.5\n",
    "print(\"Puntuaciones con +0.5:\")\n",
    "print(puntuaciones_aumentadas)"
   ]
  },
  {
   "cell_type": "markdown",
   "id": "0b9583da",
   "metadata": {},
   "source": [
    "**2. Creación e Inspección de DataFrames:**"
   ]
  },
  {
   "cell_type": "code",
   "execution_count": 44,
   "id": "6f75cc0b",
   "metadata": {},
   "outputs": [],
   "source": [
    "#a. Crea un DataFrame llamado df_estudiantes a partir del siguiente diccionario Python:\n",
    "datos_estudiantes = {\n",
    "    'ID_Estudiante': ['E001', 'E002', 'E003', 'E004', 'E005'],\n",
    "    'Nombre': ['Carlos', 'Laura', 'Miguel', 'Sofia', 'David'],\n",
    "    'Edad': [28, 32, 29, 35, 31],\n",
    "    'Programa': ['Estadística', 'Ciencia de Datos', 'IA', 'Estadística', 'Ciencia de Datos'],\n",
    "    'Semestre': [3, 2, 4, 3, 2]\n",
    "}\n",
    "df_estudiantes = pd.DataFrame(datos_estudiantes)"
   ]
  },
  {
   "cell_type": "code",
   "execution_count": 45,
   "id": "40990ca6",
   "metadata": {},
   "outputs": [
    {
     "name": "stdout",
     "output_type": "stream",
     "text": [
      "Primeras 3 filas:\n"
     ]
    },
    {
     "data": {
      "text/html": [
       "<div>\n",
       "<style scoped>\n",
       "    .dataframe tbody tr th:only-of-type {\n",
       "        vertical-align: middle;\n",
       "    }\n",
       "\n",
       "    .dataframe tbody tr th {\n",
       "        vertical-align: top;\n",
       "    }\n",
       "\n",
       "    .dataframe thead th {\n",
       "        text-align: right;\n",
       "    }\n",
       "</style>\n",
       "<table border=\"1\" class=\"dataframe\">\n",
       "  <thead>\n",
       "    <tr style=\"text-align: right;\">\n",
       "      <th></th>\n",
       "      <th>ID_Estudiante</th>\n",
       "      <th>Nombre</th>\n",
       "      <th>Edad</th>\n",
       "      <th>Programa</th>\n",
       "      <th>Semestre</th>\n",
       "    </tr>\n",
       "  </thead>\n",
       "  <tbody>\n",
       "    <tr>\n",
       "      <th>0</th>\n",
       "      <td>E001</td>\n",
       "      <td>Carlos</td>\n",
       "      <td>28</td>\n",
       "      <td>Estadística</td>\n",
       "      <td>3</td>\n",
       "    </tr>\n",
       "    <tr>\n",
       "      <th>1</th>\n",
       "      <td>E002</td>\n",
       "      <td>Laura</td>\n",
       "      <td>32</td>\n",
       "      <td>Ciencia de Datos</td>\n",
       "      <td>2</td>\n",
       "    </tr>\n",
       "    <tr>\n",
       "      <th>2</th>\n",
       "      <td>E003</td>\n",
       "      <td>Miguel</td>\n",
       "      <td>29</td>\n",
       "      <td>IA</td>\n",
       "      <td>4</td>\n",
       "    </tr>\n",
       "  </tbody>\n",
       "</table>\n",
       "</div>"
      ],
      "text/plain": [
       "  ID_Estudiante  Nombre  Edad          Programa  Semestre\n",
       "0          E001  Carlos    28       Estadística         3\n",
       "1          E002   Laura    32  Ciencia de Datos         2\n",
       "2          E003  Miguel    29                IA         4"
      ]
     },
     "execution_count": 45,
     "metadata": {},
     "output_type": "execute_result"
    }
   ],
   "source": [
    "#b. Muestra las primeras 3 filas de df_estudiantes.\n",
    "print(\"Primeras 3 filas:\")\n",
    "df_estudiantes.head(3)"
   ]
  },
  {
   "cell_type": "code",
   "execution_count": 46,
   "id": "18e62bf8",
   "metadata": {},
   "outputs": [
    {
     "name": "stdout",
     "output_type": "stream",
     "text": [
      "Resumen con info():\n",
      "<class 'pandas.core.frame.DataFrame'>\n",
      "RangeIndex: 5 entries, 0 to 4\n",
      "Data columns (total 5 columns):\n",
      " #   Column         Non-Null Count  Dtype \n",
      "---  ------         --------------  ----- \n",
      " 0   ID_Estudiante  5 non-null      object\n",
      " 1   Nombre         5 non-null      object\n",
      " 2   Edad           5 non-null      int64 \n",
      " 3   Programa       5 non-null      object\n",
      " 4   Semestre       5 non-null      int64 \n",
      "dtypes: int64(2), object(3)\n",
      "memory usage: 332.0+ bytes\n",
      "None\n"
     ]
    }
   ],
   "source": [
    "# c. Muestra un resumen conciso de df_estudiantes usando .info().\n",
    "print(\"Resumen con info():\")\n",
    "print(df_estudiantes.info())"
   ]
  },
  {
   "cell_type": "code",
   "execution_count": 47,
   "id": "c924b4a9",
   "metadata": {},
   "outputs": [
    {
     "name": "stdout",
     "output_type": "stream",
     "text": [
      "Estadísticas descriptivas:\n",
      "            Edad  Semestre\n",
      "count   5.000000   5.00000\n",
      "mean   31.000000   2.80000\n",
      "std     2.738613   0.83666\n",
      "min    28.000000   2.00000\n",
      "25%    29.000000   2.00000\n",
      "50%    31.000000   3.00000\n",
      "75%    32.000000   3.00000\n",
      "max    35.000000   4.00000\n"
     ]
    }
   ],
   "source": [
    "# d. Obten y muestra las estadísticas descriptivas para las columnas nume ricas de df_estudiantes usando .describe().\n",
    "print(\"Estadísticas descriptivas:\")\n",
    "print(df_estudiantes.describe())"
   ]
  },
  {
   "cell_type": "code",
   "execution_count": 48,
   "id": "1756ebcc",
   "metadata": {},
   "outputs": [
    {
     "name": "stdout",
     "output_type": "stream",
     "text": [
      "Forma del DataFrame: (5, 5)\n",
      "Tipos de datos:\n"
     ]
    },
    {
     "data": {
      "text/plain": [
       "ID_Estudiante    object\n",
       "Nombre           object\n",
       "Edad              int64\n",
       "Programa         object\n",
       "Semestre          int64\n",
       "dtype: object"
      ]
     },
     "execution_count": 48,
     "metadata": {},
     "output_type": "execute_result"
    }
   ],
   "source": [
    "# e. Imprime la forma (shape) y los tipos de datos (dtypes) del DataFrame.\n",
    "print(\"Forma del DataFrame:\", df_estudiantes.shape)\n",
    "print(\"Tipos de datos:\")\n",
    "df_estudiantes.dtypes"
   ]
  },
  {
   "cell_type": "markdown",
   "id": "56c95133",
   "metadata": {},
   "source": [
    "**3. Selección y Filtrado en DataFrames:**"
   ]
  },
  {
   "cell_type": "code",
   "execution_count": 49,
   "id": "846212a3",
   "metadata": {},
   "outputs": [
    {
     "name": "stdout",
     "output_type": "stream",
     "text": [
      "Columnas Nombre y Programa:\n"
     ]
    },
    {
     "data": {
      "text/html": [
       "<div>\n",
       "<style scoped>\n",
       "    .dataframe tbody tr th:only-of-type {\n",
       "        vertical-align: middle;\n",
       "    }\n",
       "\n",
       "    .dataframe tbody tr th {\n",
       "        vertical-align: top;\n",
       "    }\n",
       "\n",
       "    .dataframe thead th {\n",
       "        text-align: right;\n",
       "    }\n",
       "</style>\n",
       "<table border=\"1\" class=\"dataframe\">\n",
       "  <thead>\n",
       "    <tr style=\"text-align: right;\">\n",
       "      <th></th>\n",
       "      <th>Nombre</th>\n",
       "      <th>Programa</th>\n",
       "    </tr>\n",
       "  </thead>\n",
       "  <tbody>\n",
       "    <tr>\n",
       "      <th>0</th>\n",
       "      <td>Carlos</td>\n",
       "      <td>Estadística</td>\n",
       "    </tr>\n",
       "    <tr>\n",
       "      <th>1</th>\n",
       "      <td>Laura</td>\n",
       "      <td>Ciencia de Datos</td>\n",
       "    </tr>\n",
       "    <tr>\n",
       "      <th>2</th>\n",
       "      <td>Miguel</td>\n",
       "      <td>IA</td>\n",
       "    </tr>\n",
       "    <tr>\n",
       "      <th>3</th>\n",
       "      <td>Sofia</td>\n",
       "      <td>Estadística</td>\n",
       "    </tr>\n",
       "    <tr>\n",
       "      <th>4</th>\n",
       "      <td>David</td>\n",
       "      <td>Ciencia de Datos</td>\n",
       "    </tr>\n",
       "  </tbody>\n",
       "</table>\n",
       "</div>"
      ],
      "text/plain": [
       "   Nombre          Programa\n",
       "0  Carlos       Estadística\n",
       "1   Laura  Ciencia de Datos\n",
       "2  Miguel                IA\n",
       "3   Sofia       Estadística\n",
       "4   David  Ciencia de Datos"
      ]
     },
     "execution_count": 49,
     "metadata": {},
     "output_type": "execute_result"
    }
   ],
   "source": [
    "#a. Selecciona e imprime solo la columna Nombre y Programa.\n",
    "print(\"Columnas Nombre y Programa:\")\n",
    "df_estudiantes[['Nombre', 'Programa']]"
   ]
  },
  {
   "cell_type": "code",
   "execution_count": 50,
   "id": "9f030d65",
   "metadata": {},
   "outputs": [
    {
     "name": "stdout",
     "output_type": "stream",
     "text": [
      "Datos del estudiante con ID 'E003':\n",
      "Nombre      Miguel\n",
      "Edad            29\n",
      "Programa        IA\n",
      "Semestre         4\n",
      "Name: E003, dtype: object\n"
     ]
    }
   ],
   "source": [
    "# b. Selecciona e imprime los datos del estudiante con ID_Estudiante 'E003' utilizando .loc[]\n",
    "df_estudiantes.set_index('ID_Estudiante', inplace=True)\n",
    "print(\"Datos del estudiante con ID 'E003':\")\n",
    "print(df_estudiantes.loc['E003'])"
   ]
  },
  {
   "cell_type": "code",
   "execution_count": 51,
   "id": "e806a17f",
   "metadata": {},
   "outputs": [
    {
     "name": "stdout",
     "output_type": "stream",
     "text": [
      "Segunda y tercera fila:\n"
     ]
    },
    {
     "data": {
      "text/html": [
       "<div>\n",
       "<style scoped>\n",
       "    .dataframe tbody tr th:only-of-type {\n",
       "        vertical-align: middle;\n",
       "    }\n",
       "\n",
       "    .dataframe tbody tr th {\n",
       "        vertical-align: top;\n",
       "    }\n",
       "\n",
       "    .dataframe thead th {\n",
       "        text-align: right;\n",
       "    }\n",
       "</style>\n",
       "<table border=\"1\" class=\"dataframe\">\n",
       "  <thead>\n",
       "    <tr style=\"text-align: right;\">\n",
       "      <th></th>\n",
       "      <th>Nombre</th>\n",
       "      <th>Edad</th>\n",
       "      <th>Programa</th>\n",
       "      <th>Semestre</th>\n",
       "    </tr>\n",
       "    <tr>\n",
       "      <th>ID_Estudiante</th>\n",
       "      <th></th>\n",
       "      <th></th>\n",
       "      <th></th>\n",
       "      <th></th>\n",
       "    </tr>\n",
       "  </thead>\n",
       "  <tbody>\n",
       "    <tr>\n",
       "      <th>E002</th>\n",
       "      <td>Laura</td>\n",
       "      <td>32</td>\n",
       "      <td>Ciencia de Datos</td>\n",
       "      <td>2</td>\n",
       "    </tr>\n",
       "    <tr>\n",
       "      <th>E003</th>\n",
       "      <td>Miguel</td>\n",
       "      <td>29</td>\n",
       "      <td>IA</td>\n",
       "      <td>4</td>\n",
       "    </tr>\n",
       "  </tbody>\n",
       "</table>\n",
       "</div>"
      ],
      "text/plain": [
       "               Nombre  Edad          Programa  Semestre\n",
       "ID_Estudiante                                          \n",
       "E002            Laura    32  Ciencia de Datos         2\n",
       "E003           Miguel    29                IA         4"
      ]
     },
     "execution_count": 51,
     "metadata": {},
     "output_type": "execute_result"
    }
   ],
   "source": [
    "# c. Selecciona e imprime la segunda y tercera fila del DataFrame utilizando .iloc[]\n",
    "print(\"Segunda y tercera fila:\")\n",
    "df_estudiantes.iloc[1:3]"
   ]
  },
  {
   "cell_type": "code",
   "execution_count": 52,
   "id": "d160030d",
   "metadata": {},
   "outputs": [
    {
     "name": "stdout",
     "output_type": "stream",
     "text": [
      "Nombre y Edad de estudiantes en Semestre 2:\n"
     ]
    },
    {
     "data": {
      "text/html": [
       "<div>\n",
       "<style scoped>\n",
       "    .dataframe tbody tr th:only-of-type {\n",
       "        vertical-align: middle;\n",
       "    }\n",
       "\n",
       "    .dataframe tbody tr th {\n",
       "        vertical-align: top;\n",
       "    }\n",
       "\n",
       "    .dataframe thead th {\n",
       "        text-align: right;\n",
       "    }\n",
       "</style>\n",
       "<table border=\"1\" class=\"dataframe\">\n",
       "  <thead>\n",
       "    <tr style=\"text-align: right;\">\n",
       "      <th></th>\n",
       "      <th>Nombre</th>\n",
       "      <th>Edad</th>\n",
       "    </tr>\n",
       "    <tr>\n",
       "      <th>ID_Estudiante</th>\n",
       "      <th></th>\n",
       "      <th></th>\n",
       "    </tr>\n",
       "  </thead>\n",
       "  <tbody>\n",
       "    <tr>\n",
       "      <th>E002</th>\n",
       "      <td>Laura</td>\n",
       "      <td>32</td>\n",
       "    </tr>\n",
       "    <tr>\n",
       "      <th>E005</th>\n",
       "      <td>David</td>\n",
       "      <td>31</td>\n",
       "    </tr>\n",
       "  </tbody>\n",
       "</table>\n",
       "</div>"
      ],
      "text/plain": [
       "              Nombre  Edad\n",
       "ID_Estudiante             \n",
       "E002           Laura    32\n",
       "E005           David    31"
      ]
     },
     "execution_count": 52,
     "metadata": {},
     "output_type": "execute_result"
    }
   ],
   "source": [
    "# d. Selecciona e imprime el Nombre y Edad de los estudiantes que estan en el Semestre 2.\n",
    "print(\"Nombre y Edad de estudiantes en Semestre 2:\")\n",
    "df_estudiantes[df_estudiantes['Semestre'] == 2][['Nombre', 'Edad']]"
   ]
  },
  {
   "cell_type": "code",
   "execution_count": 53,
   "id": "90f190b7",
   "metadata": {},
   "outputs": [
    {
     "name": "stdout",
     "output_type": "stream",
     "text": [
      "Estudiantes en Ciencia de Datos con Edad > 30:\n"
     ]
    },
    {
     "data": {
      "text/html": [
       "<div>\n",
       "<style scoped>\n",
       "    .dataframe tbody tr th:only-of-type {\n",
       "        vertical-align: middle;\n",
       "    }\n",
       "\n",
       "    .dataframe tbody tr th {\n",
       "        vertical-align: top;\n",
       "    }\n",
       "\n",
       "    .dataframe thead th {\n",
       "        text-align: right;\n",
       "    }\n",
       "</style>\n",
       "<table border=\"1\" class=\"dataframe\">\n",
       "  <thead>\n",
       "    <tr style=\"text-align: right;\">\n",
       "      <th></th>\n",
       "      <th>Nombre</th>\n",
       "      <th>Edad</th>\n",
       "      <th>Programa</th>\n",
       "      <th>Semestre</th>\n",
       "    </tr>\n",
       "    <tr>\n",
       "      <th>ID_Estudiante</th>\n",
       "      <th></th>\n",
       "      <th></th>\n",
       "      <th></th>\n",
       "      <th></th>\n",
       "    </tr>\n",
       "  </thead>\n",
       "  <tbody>\n",
       "    <tr>\n",
       "      <th>E002</th>\n",
       "      <td>Laura</td>\n",
       "      <td>32</td>\n",
       "      <td>Ciencia de Datos</td>\n",
       "      <td>2</td>\n",
       "    </tr>\n",
       "    <tr>\n",
       "      <th>E005</th>\n",
       "      <td>David</td>\n",
       "      <td>31</td>\n",
       "      <td>Ciencia de Datos</td>\n",
       "      <td>2</td>\n",
       "    </tr>\n",
       "  </tbody>\n",
       "</table>\n",
       "</div>"
      ],
      "text/plain": [
       "              Nombre  Edad          Programa  Semestre\n",
       "ID_Estudiante                                         \n",
       "E002           Laura    32  Ciencia de Datos         2\n",
       "E005           David    31  Ciencia de Datos         2"
      ]
     },
     "execution_count": 53,
     "metadata": {},
     "output_type": "execute_result"
    }
   ],
   "source": [
    "# e. Filtra el DataFrame para mostrar solo los estudiantes que esta n en el programa de 'Ciencia de Datos' Y tienen una Edad mayor a 30 anos\n",
    "print(\"Estudiantes en Ciencia de Datos con Edad > 30:\")\n",
    "df_estudiantes[\n",
    "    (df_estudiantes['Programa'] == 'Ciencia de Datos') &\n",
    "    (df_estudiantes['Edad'] > 30)\n",
    "]"
   ]
  },
  {
   "cell_type": "markdown",
   "id": "434377c4",
   "metadata": {},
   "source": [
    "**4. Operaciones Básicas y Agregación Simple:**"
   ]
  },
  {
   "cell_type": "code",
   "execution_count": 54,
   "id": "94927f46",
   "metadata": {},
   "outputs": [
    {
     "name": "stdout",
     "output_type": "stream",
     "text": [
      "DataFrame con Edad_Meses:\n"
     ]
    },
    {
     "data": {
      "text/html": [
       "<div>\n",
       "<style scoped>\n",
       "    .dataframe tbody tr th:only-of-type {\n",
       "        vertical-align: middle;\n",
       "    }\n",
       "\n",
       "    .dataframe tbody tr th {\n",
       "        vertical-align: top;\n",
       "    }\n",
       "\n",
       "    .dataframe thead th {\n",
       "        text-align: right;\n",
       "    }\n",
       "</style>\n",
       "<table border=\"1\" class=\"dataframe\">\n",
       "  <thead>\n",
       "    <tr style=\"text-align: right;\">\n",
       "      <th></th>\n",
       "      <th>Nombre</th>\n",
       "      <th>Edad</th>\n",
       "      <th>Programa</th>\n",
       "      <th>Semestre</th>\n",
       "      <th>Edad_Meses</th>\n",
       "    </tr>\n",
       "    <tr>\n",
       "      <th>ID_Estudiante</th>\n",
       "      <th></th>\n",
       "      <th></th>\n",
       "      <th></th>\n",
       "      <th></th>\n",
       "      <th></th>\n",
       "    </tr>\n",
       "  </thead>\n",
       "  <tbody>\n",
       "    <tr>\n",
       "      <th>E001</th>\n",
       "      <td>Carlos</td>\n",
       "      <td>28</td>\n",
       "      <td>Estadística</td>\n",
       "      <td>3</td>\n",
       "      <td>336</td>\n",
       "    </tr>\n",
       "    <tr>\n",
       "      <th>E002</th>\n",
       "      <td>Laura</td>\n",
       "      <td>32</td>\n",
       "      <td>Ciencia de Datos</td>\n",
       "      <td>2</td>\n",
       "      <td>384</td>\n",
       "    </tr>\n",
       "    <tr>\n",
       "      <th>E003</th>\n",
       "      <td>Miguel</td>\n",
       "      <td>29</td>\n",
       "      <td>IA</td>\n",
       "      <td>4</td>\n",
       "      <td>348</td>\n",
       "    </tr>\n",
       "    <tr>\n",
       "      <th>E004</th>\n",
       "      <td>Sofia</td>\n",
       "      <td>35</td>\n",
       "      <td>Estadística</td>\n",
       "      <td>3</td>\n",
       "      <td>420</td>\n",
       "    </tr>\n",
       "    <tr>\n",
       "      <th>E005</th>\n",
       "      <td>David</td>\n",
       "      <td>31</td>\n",
       "      <td>Ciencia de Datos</td>\n",
       "      <td>2</td>\n",
       "      <td>372</td>\n",
       "    </tr>\n",
       "  </tbody>\n",
       "</table>\n",
       "</div>"
      ],
      "text/plain": [
       "               Nombre  Edad          Programa  Semestre  Edad_Meses\n",
       "ID_Estudiante                                                      \n",
       "E001           Carlos    28       Estadística         3         336\n",
       "E002            Laura    32  Ciencia de Datos         2         384\n",
       "E003           Miguel    29                IA         4         348\n",
       "E004            Sofia    35       Estadística         3         420\n",
       "E005            David    31  Ciencia de Datos         2         372"
      ]
     },
     "execution_count": 54,
     "metadata": {},
     "output_type": "execute_result"
    }
   ],
   "source": [
    "#a. Anade una nueva columna al df_estudiantes llamada Edad_Meses que sea la Edad multiplicada por 12.\n",
    "df_estudiantes['Edad_Meses'] = df_estudiantes['Edad'] * 12\n",
    "print(\"DataFrame con Edad_Meses:\")\n",
    "df_estudiantes"
   ]
  },
  {
   "cell_type": "code",
   "execution_count": 55,
   "id": "a6e988b8",
   "metadata": {},
   "outputs": [
    {
     "name": "stdout",
     "output_type": "stream",
     "text": [
      "Edad promedio de estudiantes: 31.0\n"
     ]
    }
   ],
   "source": [
    "# b. Calcula e imprime la edad promedio de los estudiantes.\n",
    "edad_promedio = df_estudiantes['Edad'].mean()\n",
    "print(\"Edad promedio de estudiantes:\", edad_promedio)"
   ]
  },
  {
   "cell_type": "code",
   "execution_count": 56,
   "id": "f8e003f5",
   "metadata": {},
   "outputs": [
    {
     "name": "stdout",
     "output_type": "stream",
     "text": [
      "Promedios por Programa:\n"
     ]
    },
    {
     "data": {
      "text/html": [
       "<div>\n",
       "<style scoped>\n",
       "    .dataframe tbody tr th:only-of-type {\n",
       "        vertical-align: middle;\n",
       "    }\n",
       "\n",
       "    .dataframe tbody tr th {\n",
       "        vertical-align: top;\n",
       "    }\n",
       "\n",
       "    .dataframe thead th {\n",
       "        text-align: right;\n",
       "    }\n",
       "</style>\n",
       "<table border=\"1\" class=\"dataframe\">\n",
       "  <thead>\n",
       "    <tr style=\"text-align: right;\">\n",
       "      <th></th>\n",
       "      <th>Edad</th>\n",
       "      <th>Semestre</th>\n",
       "    </tr>\n",
       "    <tr>\n",
       "      <th>Programa</th>\n",
       "      <th></th>\n",
       "      <th></th>\n",
       "    </tr>\n",
       "  </thead>\n",
       "  <tbody>\n",
       "    <tr>\n",
       "      <th>Ciencia de Datos</th>\n",
       "      <td>31.5</td>\n",
       "      <td>2.0</td>\n",
       "    </tr>\n",
       "    <tr>\n",
       "      <th>Estadística</th>\n",
       "      <td>31.5</td>\n",
       "      <td>3.0</td>\n",
       "    </tr>\n",
       "    <tr>\n",
       "      <th>IA</th>\n",
       "      <td>29.0</td>\n",
       "      <td>4.0</td>\n",
       "    </tr>\n",
       "  </tbody>\n",
       "</table>\n",
       "</div>"
      ],
      "text/plain": [
       "                  Edad  Semestre\n",
       "Programa                        \n",
       "Ciencia de Datos  31.5       2.0\n",
       "Estadística       31.5       3.0\n",
       "IA                29.0       4.0"
      ]
     },
     "execution_count": 56,
     "metadata": {},
     "output_type": "execute_result"
    }
   ],
   "source": [
    "# c. Agrupa los datos por Programa y calcula la edad promedio y el semestre promedio para cada programa.\n",
    "agrupado = df_estudiantes.groupby('Programa').agg({\n",
    "    'Edad': 'mean',\n",
    "    'Semestre': 'mean'\n",
    "})\n",
    "print(\"Promedios por Programa:\")\n",
    "agrupado"
   ]
  }
 ],
 "metadata": {
  "kernelspec": {
   "display_name": "Python 3",
   "language": "python",
   "name": "python3"
  },
  "language_info": {
   "codemirror_mode": {
    "name": "ipython",
    "version": 3
   },
   "file_extension": ".py",
   "mimetype": "text/x-python",
   "name": "python",
   "nbconvert_exporter": "python",
   "pygments_lexer": "ipython3",
   "version": "3.13.3"
  }
 },
 "nbformat": 4,
 "nbformat_minor": 5
}
