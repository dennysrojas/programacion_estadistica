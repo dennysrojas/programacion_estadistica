{
 "cells": [
  {
   "cell_type": "markdown",
   "id": "c9f19fcc",
   "metadata": {},
   "source": [
    "# Taller Práctico: Manipulación de Datos con NumPy y Pandas\n",
    "## Actividad 1: Explorando el Poder de NumPy (Arrays)\n",
    "### **Objetivo Específico**: Familiarizarse con la creación, atributos, indexación, slicing y operaciones fundamentales de los arrays de NumPy"
   ]
  },
  {
   "cell_type": "markdown",
   "id": "f2eef2bd",
   "metadata": {},
   "source": [
    "**1. Creación y Atributos de Arrays**\n",
    "- Crea un array 1D llamado mediciones_flujo a partir de la siguiente lista de Python, que simula mediciones de flujo sanguíneo (en ml/s): [12.5, 13.2, 11.9, 14.0, 13.5, 12.8, 15.1, 13.0].\n"
   ]
  },
  {
   "cell_type": "code",
   "execution_count": 1,
   "id": "04f3276b",
   "metadata": {},
   "outputs": [],
   "source": [
    "#instalo e importo librerias\n",
    "#%pip install numpy\n",
    "#%pip install pandas\n",
    "import numpy as np\n",
    "import pandas as pd"
   ]
  },
  {
   "cell_type": "code",
   "execution_count": 2,
   "id": "7c02f84b",
   "metadata": {},
   "outputs": [
    {
     "name": "stdout",
     "output_type": "stream",
     "text": [
      "mediciones_flujo: [12.5 13.2 11.9 14.  13.5 12.8 15.1 13. ]\n"
     ]
    }
   ],
   "source": [
    "#creo un array de numpy con los datos de flujo sanguíneo\n",
    "mediciones_flujo_list = [12.5, 13.2, 11.9, 14.0, 13.5, 12.8, 15.1, 13.0]\n",
    "mediciones_flujo = np.array(mediciones_flujo_list)\n",
    "print(\"mediciones_flujo:\", mediciones_flujo)"
   ]
  },
  {
   "cell_type": "markdown",
   "id": "fa5e5064",
   "metadata": {},
   "source": [
    "- Crea un array 2D (matriz) llamado datos_pacientes_basicos a partir de la\n",
    "siguiente lista de listas, donde cada fila representa [Edad, NivelColesterol,\n",
    "PresionSistolica]: [[55, 220, 140], [62, 250, 155], [48, 190, 130], [59, 235,\n",
    "148]]."
   ]
  },
  {
   "cell_type": "code",
   "execution_count": 3,
   "id": "212e445f",
   "metadata": {},
   "outputs": [
    {
     "name": "stdout",
     "output_type": "stream",
     "text": [
      "datos_pacientes_basicos:\n",
      " [[ 55 220 140]\n",
      " [ 62 250 155]\n",
      " [ 48 190 130]\n",
      " [ 59 235 148]]\n"
     ]
    }
   ],
   "source": [
    "#creo una matriz con datos de pacientes a partir de listas\n",
    "datos_pacientes_basicos_list = [[55, 220, 140], [62, 250, 155], [48, 190, 130], [59, 235, 148]]\n",
    "datos_pacientes_basicos = np.array(datos_pacientes_basicos_list)\n",
    "print(\"datos_pacientes_basicos:\\n\", datos_pacientes_basicos)"
   ]
  },
  {
   "cell_type": "markdown",
   "id": "3c6f75dc",
   "metadata": {},
   "source": [
    "- Utiliza np.arange() para crear un array llamado secuencia_tiempo que represente puntos de tiempo desde 0 hasta 10 segundos, con incrementos de 0.5 segundos."
   ]
  },
  {
   "cell_type": "code",
   "execution_count": 4,
   "id": "ce60f8f3",
   "metadata": {},
   "outputs": [
    {
     "name": "stdout",
     "output_type": "stream",
     "text": [
      "secuencia_tiempo: [ 0.   0.5  1.   1.5  2.   2.5  3.   3.5  4.   4.5  5.   5.5  6.   6.5\n",
      "  7.   7.5  8.   8.5  9.   9.5 10. ]\n"
     ]
    }
   ],
   "source": [
    "#Crea un array con puntos de tiempo de 0 a 10 segundos\n",
    "secuencia_tiempo = np.arange(0, 10.5, 0.5)\n",
    "print(\"secuencia_tiempo:\", secuencia_tiempo)"
   ]
  },
  {
   "cell_type": "markdown",
   "id": "880f1c1d",
   "metadata": {},
   "source": [
    "- Crea un array 1D llamado errores_simulados de 1000 elementos con valores aleatorios muestreados de una distribucion normal estandar (media 0, desviacion estandar 1) usando np.random.randn()."
   ]
  },
  {
   "cell_type": "code",
   "execution_count": 5,
   "id": "65142c63",
   "metadata": {},
   "outputs": [
    {
     "name": "stdout",
     "output_type": "stream",
     "text": [
      "errores_simulados: [ 0.84933208  0.11080818  0.66665059  0.64993108 -1.09366163 -0.40022402\n",
      "  0.43473221  0.74091388  1.31423249  1.19822821]\n"
     ]
    }
   ],
   "source": [
    "#Crea un array de 1000 elementos con valores aleatorios de una distribución normal con media 0 y desviación estándar 1\n",
    "errores_simulados = np.random.randn(1000)\n",
    "print(\"errores_simulados:\", errores_simulados[:10])"
   ]
  },
  {
   "cell_type": "markdown",
   "id": "18153952",
   "metadata": {},
   "source": [
    "- Para cada uno de los arrays creados (mediciones_flujo, datos_pacientes_basicos, secuencia_tiempo,errores_simulados), imprime su forma (.shape), numero de dimensiones (.ndim), tamaño total (.size) y tipo de dato (.dtype).\n"
   ]
  },
  {
   "cell_type": "code",
   "execution_count": 6,
   "id": "ce0a582d",
   "metadata": {},
   "outputs": [
    {
     "name": "stdout",
     "output_type": "stream",
     "text": [
      "Atributos de los arrays:\n",
      "\n",
      "Array: mediciones_flujo\n",
      "Forma (.shape): (8,)\n",
      "Número de dimensiones (.ndim): 1\n",
      "Tamaño total (.size): 8\n",
      "Tipo de dato (.dtype): float64\n",
      "\n",
      "Array: datos_pacientes_basicos\n",
      "Forma (.shape): (4, 3)\n",
      "Número de dimensiones (.ndim): 2\n",
      "Tamaño total (.size): 12\n",
      "Tipo de dato (.dtype): int64\n",
      "\n",
      "Array: secuencia_tiempo\n",
      "Forma (.shape): (21,)\n",
      "Número de dimensiones (.ndim): 1\n",
      "Tamaño total (.size): 21\n",
      "Tipo de dato (.dtype): float64\n",
      "\n",
      "Array: errores_simulados\n",
      "Forma (.shape): (1000,)\n",
      "Número de dimensiones (.ndim): 1\n",
      "Tamaño total (.size): 1000\n",
      "Tipo de dato (.dtype): float64\n"
     ]
    }
   ],
   "source": [
    "arrays_creados = {\n",
    "    \"mediciones_flujo\": mediciones_flujo,\n",
    "    \"datos_pacientes_basicos\": datos_pacientes_basicos,\n",
    "    \"secuencia_tiempo\": secuencia_tiempo,\n",
    "    \"errores_simulados\": errores_simulados\n",
    "}\n",
    "\n",
    "print(\"Atributos de los arrays:\")\n",
    "for name, arr in arrays_creados.items():\n",
    "    print(f\"\\nArray: {name}\")\n",
    "    print(f\"Forma (.shape): {arr.shape}\")\n",
    "    print(f\"Número de dimensiones (.ndim): {arr.ndim}\")\n",
    "    print(f\"Tamaño total (.size): {arr.size}\")\n",
    "    print(f\"Tipo de dato (.dtype): {arr.dtype}\")"
   ]
  },
  {
   "cell_type": "markdown",
   "id": "41a04bdd",
   "metadata": {},
   "source": [
    "**2. Indexación y Slicing**"
   ]
  },
  {
   "cell_type": "markdown",
   "id": "a360061e",
   "metadata": {},
   "source": [
    "- Usando datos_pacientes_basicos:\n",
    "    - Selecciona e imprime la edad del segundo paciente.\n",
    "    - Selecciona e imprime todos los datos del tercer paciente (la fila completa).\n",
    "    - Selecciona e imprime solo la columna de NivelColesterol para todos los pacientes.\n",
    "    - Selecciona e imprime un subconjunto que contenga la Edad y NivelColesterol de los primeros dos pacientes."
   ]
  },
  {
   "cell_type": "code",
   "execution_count": 7,
   "id": "fbbb45df",
   "metadata": {},
   "outputs": [
    {
     "name": "stdout",
     "output_type": "stream",
     "text": [
      "Edad del segundo paciente: 62\n"
     ]
    }
   ],
   "source": [
    "#Selecciona e imprime la edad del segundo paciente\n",
    "edad_segundo_paciente = datos_pacientes_basicos[1, 0]\n",
    "print(f\"Edad del segundo paciente: {edad_segundo_paciente}\")"
   ]
  },
  {
   "cell_type": "code",
   "execution_count": 8,
   "id": "d2438486",
   "metadata": {},
   "outputs": [
    {
     "name": "stdout",
     "output_type": "stream",
     "text": [
      "Datos del tercer paciente: [ 48 190 130]\n"
     ]
    }
   ],
   "source": [
    "#Selecciona e imprime todos los datos del tercer paciente\n",
    "datos_tercer_paciente = datos_pacientes_basicos[2, :]\n",
    "print(f\"Datos del tercer paciente: {datos_tercer_paciente}\")"
   ]
  },
  {
   "cell_type": "code",
   "execution_count": 9,
   "id": "309c4db3",
   "metadata": {},
   "outputs": [
    {
     "name": "stdout",
     "output_type": "stream",
     "text": [
      "Nivel de colesterol de todos los pacientes: [220 250 190 235]\n"
     ]
    }
   ],
   "source": [
    "#Selecciona e imprime solo la columna de NivelColesterol para todos los pacientes   \n",
    "nivel_colesterol = datos_pacientes_basicos[:, 1]\n",
    "print(f\"Nivel de colesterol de todos los pacientes: {nivel_colesterol}\")"
   ]
  },
  {
   "cell_type": "code",
   "execution_count": 10,
   "id": "bd39d142",
   "metadata": {},
   "outputs": [
    {
     "name": "stdout",
     "output_type": "stream",
     "text": [
      "Subconjunto de edad y colesterol de los primeros dos pacientes:\n",
      "[[ 55 220]\n",
      " [ 62 250]]\n"
     ]
    }
   ],
   "source": [
    "#Selecciona  e imprime un subconjunto que contenga la edad y NivelColesterol de los primeros dos pacientes\n",
    "subconjunto_pacientes = datos_pacientes_basicos[:2, [0, 1]]\n",
    "print(f\"Subconjunto de edad y colesterol de los primeros dos pacientes:\\n{subconjunto_pacientes}\")"
   ]
  },
  {
   "cell_type": "markdown",
   "id": "2963c258",
   "metadata": {},
   "source": [
    "- Usando errores_simulados\n",
    "    - Selecciona e imprimer los primeros 10 valores\n",
    "    - Crea un nuevo array llamado errores_positivos que contenga solo los valores de errore_simulados que son mayores que 0. Imprime la cantidad de errores positivos encontrados"
   ]
  },
  {
   "cell_type": "code",
   "execution_count": 11,
   "id": "ce87c0db",
   "metadata": {},
   "outputs": [
    {
     "name": "stdout",
     "output_type": "stream",
     "text": [
      "Primeros 10 valores de errores_simulados:\n",
      "[ 0.84933208  0.11080818  0.66665059  0.64993108 -1.09366163 -0.40022402\n",
      "  0.43473221  0.74091388  1.31423249  1.19822821]\n"
     ]
    }
   ],
   "source": [
    "#10 primeros valores de errores_simulados\n",
    "print(f\"Primeros 10 valores de errores_simulados:\\n{errores_simulados[:10]}\")"
   ]
  },
  {
   "cell_type": "code",
   "execution_count": 12,
   "id": "69fda2e4",
   "metadata": {},
   "outputs": [
    {
     "name": "stdout",
     "output_type": "stream",
     "text": [
      "Errores positivos:\n",
      "[0.84933208 0.11080818 0.66665059 0.64993108 0.43473221 0.74091388\n",
      " 1.31423249 1.19822821 0.33512017 1.34664958]\n",
      "Cantidad de errores positivos encontrados: 497\n"
     ]
    }
   ],
   "source": [
    "#nuevo array con errores positivos y cantidad de errores positivos encontrados\n",
    "errores_positivos = errores_simulados[errores_simulados > 0]\n",
    "cantidad_errores_positivos = errores_positivos.size\n",
    "print(f\"Errores positivos:\\n{errores_positivos[:10]}\")\n",
    "print(f\"Cantidad de errores positivos encontrados: {cantidad_errores_positivos}\")"
   ]
  },
  {
   "cell_type": "markdown",
   "id": "6e8d343d",
   "metadata": {},
   "source": [
    "**3. Operaciones y Estadísticas**\n",
    "- Crea dos arrays 1D, vector_a = np.array([1, 5, 10, 15]) y vector_b = np.array([2, 4, 6, 8]). Realiza y muestra los resultados de:\n",
    "    - Suma (vector_a + vector_b)\n",
    "    - Multiplicacion elemento a elemento (vector_a * vector_b)\n",
    "    - vector_a elevado al cuadrado."
   ]
  },
  {
   "cell_type": "code",
   "execution_count": 13,
   "id": "88ee6fc0",
   "metadata": {},
   "outputs": [],
   "source": [
    "#Creo los arrays de 1 dimension\n",
    "vector_a = np.array([1, 5, 10, 15])\n",
    "vector_b = np.array([2, 4, 6, 8])"
   ]
  },
  {
   "cell_type": "code",
   "execution_count": 14,
   "id": "99f86c31",
   "metadata": {},
   "outputs": [
    {
     "name": "stdout",
     "output_type": "stream",
     "text": [
      "Suma de los vectores:\n",
      "[ 1  5 10 15] + [2 4 6 8] = [ 3  9 16 23]\n"
     ]
    }
   ],
   "source": [
    "#Suma de los vectores\n",
    "suma_vectores = vector_a + vector_b\n",
    "print(f\"Suma de los vectores:\\n{vector_a} + {vector_b} = {suma_vectores}\")"
   ]
  },
  {
   "cell_type": "code",
   "execution_count": 15,
   "id": "ea5bcc34",
   "metadata": {},
   "outputs": [
    {
     "name": "stdout",
     "output_type": "stream",
     "text": [
      "Multiplicación elemento a elemento:\n",
      "[ 1  5 10 15] * [2 4 6 8] = [  2  20  60 120]\n"
     ]
    }
   ],
   "source": [
    "#Multiplicación elemento a elemento\n",
    "multiplicacion_vectores = vector_a * vector_b\n",
    "print(f\"Multiplicación elemento a elemento:\\n{vector_a} * {vector_b} = {multiplicacion_vectores}\")"
   ]
  },
  {
   "cell_type": "code",
   "execution_count": 16,
   "id": "e242186c",
   "metadata": {},
   "outputs": [
    {
     "name": "stdout",
     "output_type": "stream",
     "text": [
      "Vector_a elevado al cuadrado:\n",
      "[ 1  5 10 15] ** 2 = [  1  25 100 225]\n"
     ]
    }
   ],
   "source": [
    "#vector_a elevado al cuadrado\n",
    "vector_a_cuadrado = vector_a ** 2\n",
    "print(f\"Vector_a elevado al cuadrado:\\n{vector_a} ** 2 = {vector_a_cuadrado}\")"
   ]
  },
  {
   "cell_type": "markdown",
   "id": "60d314bf",
   "metadata": {},
   "source": [
    "- Toma la matriz datos_pacientes_basicos y suma un valor constante de 5 a la columna de PresionSistolica utilizando broadcasting (primero selecciona la columna, suma 5, y luego considera como reasignarla o crear una nueva matriz).\n"
   ]
  },
  {
   "cell_type": "code",
   "execution_count": 17,
   "id": "d3480ddb",
   "metadata": {},
   "outputs": [
    {
     "name": "stdout",
     "output_type": "stream",
     "text": [
      "Matriz original datos_pacientes_basicos:\n",
      "[[ 55 220 140]\n",
      " [ 62 250 155]\n",
      " [ 48 190 130]\n",
      " [ 59 235 148]]\n",
      "datos_pacientes_basicos con 5 sumado a PresionSistolica:\n",
      " [[ 55 220 140]\n",
      " [ 62 250 160]\n",
      " [ 48 190 135]\n",
      " [ 59 235 153]]\n"
     ]
    }
   ],
   "source": [
    "#Sumar un valor constante a la columna de PresionSistolica utilizando broadcasting\n",
    "print(\"Matriz original datos_pacientes_basicos:\")\n",
    "print(datos_pacientes_basicos)\n",
    "\n",
    "# Seleccionamos la columna y sumamos 5. NumPy maneja el broadcasting automáticamente.\n",
    "datos_pacientes_basicos_modificado = datos_pacientes_basicos.copy()\n",
    "datos_pacientes_basicos_modificado[1:, 2] += 5\n",
    "print(\"datos_pacientes_basicos con 5 sumado a PresionSistolica:\\n\", datos_pacientes_basicos_modificado)"
   ]
  },
  {
   "cell_type": "markdown",
   "id": "3aa76d23",
   "metadata": {},
   "source": [
    "- Para el array mediciones_flujo, calcula e imprime: la media, la mediana, la desviacion estandar, el valor mínimo y el máximo.\n"
   ]
  },
  {
   "cell_type": "code",
   "execution_count": 18,
   "id": "7917a2c0",
   "metadata": {},
   "outputs": [
    {
     "name": "stdout",
     "output_type": "stream",
     "text": [
      "Estadísticos de mediciones_flujo:\n",
      "Media: 13.25\n",
      "Mediana: 13.1\n",
      "Desviación estándar: 0.9151502608861561\n",
      "Valor mínimo: 11.9\n",
      "Valor máximo: 15.1\n"
     ]
    }
   ],
   "source": [
    "#estadísticos de mediciones_flujo\n",
    "print(\"Estadísticos de mediciones_flujo:\")\n",
    "print(f\"Media: {np.mean(mediciones_flujo)}\")\n",
    "print(f\"Mediana: {np.median(mediciones_flujo)}\")\n",
    "print(f\"Desviación estándar: {np.std(mediciones_flujo)}\")\n",
    "print(f\"Valor mínimo: {np.min(mediciones_flujo)}\")\n",
    "print(f\"Valor máximo: {np.max(mediciones_flujo)}\")"
   ]
  },
  {
   "cell_type": "markdown",
   "id": "dd7d4ea5",
   "metadata": {},
   "source": [
    "- Para la matriz datos_pacientes_basicos, calcula e imprime la media de cada variable (cada columna) utilizando el parámetro axis."
   ]
  },
  {
   "cell_type": "code",
   "execution_count": 19,
   "id": "34b4b64b",
   "metadata": {},
   "outputs": [
    {
     "name": "stdout",
     "output_type": "stream",
     "text": [
      "Media de cada variable en datos_pacientes_basicos:\n",
      "(Orden: Edad, NivelColesterol, PresionSistolica)\n",
      "[ 56.   223.75 143.25]\n"
     ]
    }
   ],
   "source": [
    "#media de cada variable en datos_pacientes_basicos utilizando axis\n",
    "print(\"Media de cada variable en datos_pacientes_basicos:\")\n",
    "media_por_columna = np.mean(datos_pacientes_basicos, axis=0)\n",
    "print(\"(Orden: Edad, NivelColesterol, PresionSistolica)\")\n",
    "print(media_por_columna)\n"
   ]
  },
  {
   "cell_type": "markdown",
   "id": "ac8cba56",
   "metadata": {},
   "source": [
    "### **Comentario Actividad 1**\n",
    "La actividad 1 ha permitido revisar conceptos estudiados en clase, con los que se pudo cubrir aspectos esenciales como: \n",
    "- Creación y manipulación de arrays: siendo unidimensionales y bidimensionales, así como el uso de funciones de numpy como arange, random, shape, ndim, size, dtype.\n",
    "- Indexación y slicing: nos ha permitido familiarizarnos con la sintaxis de numpy para acceso y extracción de subconjuntos de datos.\n",
    "- Operaciones y estadísticas: se ha podido revisar operaciones con vectores como: sumas, multiplicaciones y potencias. También la utilización del broadcasting para operaciones sobre subconjuntos de arrays y finalmente, el cálculo de estadísticos descriptivos básicos para obtener un resumen rápido de los datos."
   ]
  }
 ],
 "metadata": {
  "kernelspec": {
   "display_name": "Python 3",
   "language": "python",
   "name": "python3"
  },
  "language_info": {
   "codemirror_mode": {
    "name": "ipython",
    "version": 3
   },
   "file_extension": ".py",
   "mimetype": "text/x-python",
   "name": "python",
   "nbconvert_exporter": "python",
   "pygments_lexer": "ipython3",
   "version": "3.13.3"
  }
 },
 "nbformat": 4,
 "nbformat_minor": 5
}
