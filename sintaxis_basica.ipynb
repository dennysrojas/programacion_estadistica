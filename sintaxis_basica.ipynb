{
 "cells": [
  {
   "cell_type": "markdown",
   "id": "20ae7535",
   "metadata": {},
   "source": [
    "# Sintaxis básica de Python"
   ]
  },
  {
   "cell_type": "markdown",
   "id": "2844f261",
   "metadata": {},
   "source": [
    "## Operaciones con tipos de datos"
   ]
  },
  {
   "cell_type": "markdown",
   "id": "f01245bf",
   "metadata": {},
   "source": [
    "----- Declaración de variables -----"
   ]
  },
  {
   "cell_type": "code",
   "execution_count": 4,
   "id": "e1d8420e",
   "metadata": {},
   "outputs": [],
   "source": [
    "var1 = 5\n",
    "var2 = 2.2\n",
    "var3 = \"Mensaje\"\n",
    "var4 = True"
   ]
  },
  {
   "cell_type": "markdown",
   "id": "f1229c8f",
   "metadata": {},
   "source": [
    "----- Imprime el tipo de variables -----"
   ]
  },
  {
   "cell_type": "code",
   "execution_count": 5,
   "id": "48a495a2",
   "metadata": {},
   "outputs": [
    {
     "name": "stdout",
     "output_type": "stream",
     "text": [
      "<class 'int'>\n",
      "<class 'float'>\n",
      "<class 'str'>\n",
      "<class 'bool'>\n"
     ]
    }
   ],
   "source": [
    "print(type(var1))\n",
    "print(type(var2))\n",
    "print(type(var3))\n",
    "print(type(var4))"
   ]
  },
  {
   "cell_type": "markdown",
   "id": "b16e42ef",
   "metadata": {},
   "source": [
    "----- Asignacion a variables -----"
   ]
  },
  {
   "cell_type": "code",
   "execution_count": 12,
   "id": "81496706",
   "metadata": {},
   "outputs": [
    {
     "name": "stdout",
     "output_type": "stream",
     "text": [
      "3 3 3\n",
      "5 10.5 Mensaje\n"
     ]
    }
   ],
   "source": [
    "#Asignacion\n",
    "x = y = z = 3\n",
    "a, b, c = 5, 10.5, \"Mensaje\"\n",
    "\n",
    "#Resultado\n",
    "print(x,y,z)\n",
    "print(a, b, c)"
   ]
  },
  {
   "cell_type": "markdown",
   "id": "b3e45850",
   "metadata": {},
   "source": [
    "----- Palabras reservadas -----"
   ]
  },
  {
   "cell_type": "code",
   "execution_count": 15,
   "id": "114791a3",
   "metadata": {},
   "outputs": [
    {
     "name": "stdout",
     "output_type": "stream",
     "text": [
      "['False', 'None', 'True', 'and', 'as', 'assert', 'async', 'await', 'break', 'class', 'continue', 'def', 'del', 'elif', 'else', 'except', 'finally', 'for', 'from', 'global', 'if', 'import', 'in', 'is', 'lambda', 'nonlocal', 'not', 'or', 'pass', 'raise', 'return', 'try', 'while', 'with', 'yield']\n"
     ]
    }
   ],
   "source": [
    "import keyword\n",
    "print(keyword.kwlist)"
   ]
  },
  {
   "cell_type": "markdown",
   "id": "f1933a11",
   "metadata": {},
   "source": [
    "----- Impresion de mensaje con varios tipos de datos"
   ]
  },
  {
   "cell_type": "code",
   "execution_count": 17,
   "id": "42de76d4",
   "metadata": {},
   "outputs": [
    {
     "name": "stdout",
     "output_type": "stream",
     "text": [
      "La edad es de: 30 años\n"
     ]
    }
   ],
   "source": [
    "edad = 30\n",
    "print(f\"La edad es de: {edad} años\")"
   ]
  },
  {
   "cell_type": "markdown",
   "id": "9eacb194",
   "metadata": {},
   "source": [
    "----- Funciones con cadenas de texto -----"
   ]
  },
  {
   "cell_type": "code",
   "execution_count": 1,
   "id": "e8c9db72",
   "metadata": {},
   "outputs": [
    {
     "name": "stdout",
     "output_type": "stream",
     "text": [
      "mensaje de prueba\n",
      "MENSAJE DE PRUEBA\n",
      "Mensaje de prueba\n"
     ]
    }
   ],
   "source": [
    "cadena = \"MenSajE de PruEba\"\n",
    "cadena = cadena.lower()\n",
    "print(cadena)\n",
    "cadena = cadena.upper()\n",
    "print(cadena)\n",
    "cadena = cadena.capitalize()\n",
    "print(cadena)"
   ]
  },
  {
   "cell_type": "code",
   "execution_count": 6,
   "id": "d9311ea4",
   "metadata": {},
   "outputs": [
    {
     "name": "stdout",
     "output_type": "stream",
     "text": [
      "['Este', 'es', 'un', 'texto', 'largo', 'para', 'splitear', 'la', 'cadena', 'de', 'texto', 'por', 'posicion']\n",
      "La palabra en la posicion 4 es: texto\n"
     ]
    }
   ],
   "source": [
    "texto = \"Este es un texto largo para splitear la cadena de texto por posicion\"\n",
    "palabras = texto.split()\n",
    "print(palabras)\n",
    "print(f\"La palabra en la posicion 4 es: {palabras[3]}\")"
   ]
  },
  {
   "cell_type": "markdown",
   "id": "bd4792a2",
   "metadata": {},
   "source": [
    "----- Estructuras condicionales -----"
   ]
  },
  {
   "cell_type": "code",
   "execution_count": 18,
   "id": "b0b6e496",
   "metadata": {},
   "outputs": [
    {
     "name": "stdout",
     "output_type": "stream",
     "text": [
      "x (10) es mayor que y (20) o z (5)\n"
     ]
    }
   ],
   "source": [
    "x = 10\n",
    "y = 20 \n",
    "z = 5\n",
    "if (x > y or x > z ):\n",
    "    print(f\"x ({x}) es mayor que y ({y}) o z ({z})\")\n",
    "else:\n",
    "    print(f\"y ({y}) es mayor que x ({x})\")"
   ]
  },
  {
   "cell_type": "markdown",
   "id": "a69a42f5",
   "metadata": {},
   "source": [
    "----- Estructuras de repeticion -----"
   ]
  },
  {
   "cell_type": "code",
   "execution_count": 27,
   "id": "e3d293d1",
   "metadata": {},
   "outputs": [
    {
     "name": "stdout",
     "output_type": "stream",
     "text": [
      "La suma de los elementos del vector es = 1\n",
      "El elemento actual es: 1 y el siguiente elemento es: 3\n",
      "La suma de los elementos del vector es = 4\n",
      "El elemento actual es: 3 y el siguiente elemento es: 5\n",
      "La suma de los elementos del vector es = 9\n",
      "El elemento actual es: 5 y el siguiente elemento es: 7\n",
      "La suma de los elementos del vector es = 16\n",
      "El elemento actual es: 7 y el siguiente elemento es: 9\n",
      "La suma de los elementos del vector es = 25\n",
      "El elemento actual es: 9 y no hay siguiente elemento.\n"
     ]
    }
   ],
   "source": [
    "vector = [1 , 3 , 5 , 7 , 9]\n",
    "suma = 0\n",
    "for idx, i in enumerate(vector):\n",
    "    suma += i\n",
    "    print(f\"La suma de los elementos del vector es = {suma}\")\n",
    "    if idx < len(vector) - 1:\n",
    "        print(f\"El elemento actual es: {i} y el siguiente elemento es: {vector[idx+1]}\")\n",
    "    else:\n",
    "        print(f\"El elemento actual es: {i} y no hay siguiente elemento.\")"
   ]
  },
  {
   "cell_type": "code",
   "execution_count": 31,
   "id": "a6289f26",
   "metadata": {},
   "outputs": [
    {
     "name": "stdout",
     "output_type": "stream",
     "text": [
      "El numero 10 es par y se suma\n",
      "El numero 20 es par y se suma\n",
      "El numero 30 es par y se suma\n",
      "El numero 45 es impar y NO se suma\n",
      "El numero 52 es par y se suma\n",
      "La suma de los numeros pares es: 112\n"
     ]
    }
   ],
   "source": [
    "vector = [10, 20, 30, 45, 52]\n",
    "suma = 0\n",
    "for i in vector:\n",
    "    if i % 2 == 0:\n",
    "        print(f\"El numero {i} es par y se suma\")\n",
    "        suma += i\n",
    "    else:\n",
    "        print(f\"El numero {i} es impar y NO se suma\")\n",
    "print(f\"La suma de los numeros pares es: {suma}\")\n",
    "    "
   ]
  },
  {
   "cell_type": "markdown",
   "id": "b799106b",
   "metadata": {},
   "source": [
    "----- Funciones -----"
   ]
  },
  {
   "cell_type": "code",
   "execution_count": 6,
   "id": "17bb514e",
   "metadata": {},
   "outputs": [],
   "source": [
    "#Importa libreria random para generar numeros aleatorios\n",
    "import random \n",
    "\n",
    "#Funcion para llenar un vector con numeros aleatorios\n",
    "def llenar_vector(n):\n",
    "    vector = []\n",
    "    for i in range(n):\n",
    "        vector.append(random.randint(1, 100))\n",
    "    return vector"
   ]
  },
  {
   "cell_type": "code",
   "execution_count": 7,
   "id": "fbd76357",
   "metadata": {},
   "outputs": [],
   "source": [
    "#Funcion para imprimir el vector\n",
    "def imprimir_vector(vector):\n",
    "    print(\"Vector generado:\")\n",
    "    for i in vector:\n",
    "        print(i, end=' ')\n",
    "    print()  # Nueva línea al final"
   ]
  },
  {
   "cell_type": "code",
   "execution_count": null,
   "id": "dbb281b7",
   "metadata": {},
   "outputs": [
    {
     "name": "stdout",
     "output_type": "stream",
     "text": [
      "Vector generado:\n",
      "32 21 73 51 34 79 16 73 \n"
     ]
    }
   ],
   "source": [
    "# Ejemplo de uso de funciones\n",
    "n = int(input(\"Ingrese el tamaño del vector: \"))\n",
    "vector = llenar_vector(n)\n",
    "imprimir_vector(vector)"
   ]
  },
  {
   "cell_type": "markdown",
   "id": "a5b4318f",
   "metadata": {},
   "source": [
    "----- Matrices -----"
   ]
  },
  {
   "cell_type": "code",
   "execution_count": 11,
   "id": "ca90af07",
   "metadata": {},
   "outputs": [],
   "source": [
    "#Funcion para llenar una matriz con numeros aleatorios\n",
    "def llenar_matriz(filas, columnas):\n",
    "    matriz = []\n",
    "    for i in range(filas):\n",
    "        fila = []\n",
    "        for j in range(columnas):\n",
    "            fila.append(random.randint(1, 100))\n",
    "        matriz.append(fila)\n",
    "    return matriz"
   ]
  },
  {
   "cell_type": "code",
   "execution_count": 12,
   "id": "8ade63dd",
   "metadata": {},
   "outputs": [],
   "source": [
    "#Funcion para imprimir la matriz\n",
    "def imprimir_matriz(matriz):\n",
    "    print(\"Matriz generada:\")\n",
    "    for fila in matriz:\n",
    "        for elemento in fila:\n",
    "            print(elemento, end=' ')\n",
    "        print()  # Nueva línea al final"
   ]
  },
  {
   "cell_type": "code",
   "execution_count": 13,
   "id": "23d3b7b8",
   "metadata": {},
   "outputs": [
    {
     "name": "stdout",
     "output_type": "stream",
     "text": [
      "Matriz generada:\n",
      "7 2 49 19 99 \n",
      "39 25 49 99 39 \n",
      "42 25 81 51 53 \n",
      "86 100 76 83 16 \n",
      "17 24 35 96 90 \n"
     ]
    }
   ],
   "source": [
    "#Ejemplo de uso de funciones para matriz\n",
    "filas = int(input(\"Ingrese el número de filas de la matriz: \"))\n",
    "columnas = int(input(\"Ingrese el número de columnas de la matriz: \"))\n",
    "matriz = llenar_matriz(filas, columnas)\n",
    "imprimir_matriz(matriz)\n"
   ]
  }
 ],
 "metadata": {
  "kernelspec": {
   "display_name": "Python 3",
   "language": "python",
   "name": "python3"
  },
  "language_info": {
   "codemirror_mode": {
    "name": "ipython",
    "version": 3
   },
   "file_extension": ".py",
   "mimetype": "text/x-python",
   "name": "python",
   "nbconvert_exporter": "python",
   "pygments_lexer": "ipython3",
   "version": "3.13.3"
  }
 },
 "nbformat": 4,
 "nbformat_minor": 5
}
